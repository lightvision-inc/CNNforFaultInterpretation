{
 "cells": [
  {
   "cell_type": "markdown",
   "metadata": {},
   "source": [
    "### Dependencies"
   ]
  },
  {
   "cell_type": "code",
   "execution_count": 17,
   "metadata": {},
   "outputs": [],
   "source": [
    "import torch\n",
    "import json\n",
    "import glob\n",
    "import numpy as np\n",
    "import matplotlib.pyplot as plt\n",
    "%matplotlib inline\n",
    "\n",
    "from torch.utils.data import DataLoader\n",
    "from torchsummary import summary\n",
    "from common.classes import (\n",
    "    SeismicDataset\n",
    ")\n",
    "from common.utils import (\n",
    "    get_sliding_wnd_params,\n",
    "    get_sliding_wnd_patches,\n",
    "    window_2d,\n",
    "    recover_img_from_patches,\n",
    ")"
   ]
  },
  {
   "cell_type": "markdown",
   "metadata": {},
   "source": [
    "### Dataset related parameters"
   ]
  },
  {
   "cell_type": "code",
   "execution_count": 19,
   "metadata": {},
   "outputs": [],
   "source": [
    "stage = 'test'\n",
    "dataset_root = 'D:/220617_seismic'\n",
    "dataset_proc = f'{dataset_root}/thebe_processed'"
   ]
  },
  {
   "cell_type": "markdown",
   "metadata": {},
   "source": [
    "### Patch related parameters"
   ]
  },
  {
   "cell_type": "code",
   "execution_count": 20,
   "metadata": {},
   "outputs": [
    {
     "name": "stdout",
     "output_type": "stream",
     "text": [
      "Patch size: 96\n",
      "Step: 48\n"
     ]
    }
   ],
   "source": [
    "with open(f'{dataset_proc}/patch_params.json', 'r+') as f:\n",
    "    patch_params = json.load(f)\n",
    "\n",
    "patch_sz = patch_params['patch_sz']\n",
    "step = patch_params['step']\n",
    "overlap_sz = patch_sz - step\n",
    "print(f'Patch size: {patch_sz}')\n",
    "print(f'Step: {step}')"
   ]
  },
  {
   "cell_type": "markdown",
   "metadata": {},
   "source": [
    "### Load an inference model"
   ]
  },
  {
   "cell_type": "code",
   "execution_count": 21,
   "metadata": {},
   "outputs": [
    {
     "name": "stdout",
     "output_type": "stream",
     "text": [
      "use model Unet\n",
      "./checkpoints/noaugmodelsseed/unet_96_48_900200_seed.model\n",
      "./overlap_clean_predictions/unet_96_48_900200_seed_smooth\n",
      "----------------------------------------------------------------\n",
      "        Layer (type)               Output Shape         Param #\n",
      "================================================================\n",
      "            Conv2d-1           [-1, 32, 96, 96]             320\n",
      "       BatchNorm2d-2           [-1, 32, 96, 96]              64\n",
      "              ReLU-3           [-1, 32, 96, 96]               0\n",
      "         Dropout2d-4           [-1, 32, 96, 96]               0\n",
      "            Conv2d-5           [-1, 32, 96, 96]           9,248\n",
      "       BatchNorm2d-6           [-1, 32, 96, 96]              64\n",
      "              ReLU-7           [-1, 32, 96, 96]               0\n",
      "         Dropout2d-8           [-1, 32, 96, 96]               0\n",
      "       double_conv-9           [-1, 32, 96, 96]               0\n",
      "        MaxPool2d-10           [-1, 32, 48, 48]               0\n",
      "           Conv2d-11           [-1, 64, 48, 48]          18,496\n",
      "      BatchNorm2d-12           [-1, 64, 48, 48]             128\n",
      "             ReLU-13           [-1, 64, 48, 48]               0\n",
      "        Dropout2d-14           [-1, 64, 48, 48]               0\n",
      "           Conv2d-15           [-1, 64, 48, 48]          36,928\n",
      "      BatchNorm2d-16           [-1, 64, 48, 48]             128\n",
      "             ReLU-17           [-1, 64, 48, 48]               0\n",
      "        Dropout2d-18           [-1, 64, 48, 48]               0\n",
      "      double_conv-19           [-1, 64, 48, 48]               0\n",
      "        MaxPool2d-20           [-1, 64, 24, 24]               0\n",
      "           Conv2d-21          [-1, 128, 24, 24]          73,856\n",
      "      BatchNorm2d-22          [-1, 128, 24, 24]             256\n",
      "             ReLU-23          [-1, 128, 24, 24]               0\n",
      "        Dropout2d-24          [-1, 128, 24, 24]               0\n",
      "           Conv2d-25          [-1, 128, 24, 24]         147,584\n",
      "      BatchNorm2d-26          [-1, 128, 24, 24]             256\n",
      "             ReLU-27          [-1, 128, 24, 24]               0\n",
      "        Dropout2d-28          [-1, 128, 24, 24]               0\n",
      "      double_conv-29          [-1, 128, 24, 24]               0\n",
      "        MaxPool2d-30          [-1, 128, 12, 12]               0\n",
      "           Conv2d-31          [-1, 256, 14, 14]         295,168\n",
      "      BatchNorm2d-32          [-1, 256, 14, 14]             512\n",
      "             ReLU-33          [-1, 256, 14, 14]               0\n",
      "        Dropout2d-34          [-1, 256, 14, 14]               0\n",
      "           Conv2d-35          [-1, 256, 16, 16]         590,080\n",
      "      BatchNorm2d-36          [-1, 256, 16, 16]             512\n",
      "             ReLU-37          [-1, 256, 16, 16]               0\n",
      "        Dropout2d-38          [-1, 256, 16, 16]               0\n",
      "      double_conv-39          [-1, 256, 16, 16]               0\n",
      "  ConvTranspose2d-40          [-1, 128, 32, 32]         131,200\n",
      "           Conv2d-41          [-1, 128, 26, 26]         295,040\n",
      "      BatchNorm2d-42          [-1, 128, 26, 26]             256\n",
      "             ReLU-43          [-1, 128, 26, 26]               0\n",
      "        Dropout2d-44          [-1, 128, 26, 26]               0\n",
      "           Conv2d-45          [-1, 128, 28, 28]         147,584\n",
      "      BatchNorm2d-46          [-1, 128, 28, 28]             256\n",
      "             ReLU-47          [-1, 128, 28, 28]               0\n",
      "        Dropout2d-48          [-1, 128, 28, 28]               0\n",
      "      double_conv-49          [-1, 128, 28, 28]               0\n",
      "  ConvTranspose2d-50           [-1, 64, 56, 56]          32,832\n",
      "           Conv2d-51           [-1, 64, 50, 50]          73,792\n",
      "      BatchNorm2d-52           [-1, 64, 50, 50]             128\n",
      "             ReLU-53           [-1, 64, 50, 50]               0\n",
      "        Dropout2d-54           [-1, 64, 50, 50]               0\n",
      "           Conv2d-55           [-1, 64, 52, 52]          36,928\n",
      "      BatchNorm2d-56           [-1, 64, 52, 52]             128\n",
      "             ReLU-57           [-1, 64, 52, 52]               0\n",
      "        Dropout2d-58           [-1, 64, 52, 52]               0\n",
      "      double_conv-59           [-1, 64, 52, 52]               0\n",
      "  ConvTranspose2d-60         [-1, 32, 104, 104]           8,224\n",
      "           Conv2d-61           [-1, 32, 98, 98]          18,464\n",
      "      BatchNorm2d-62           [-1, 32, 98, 98]              64\n",
      "             ReLU-63           [-1, 32, 98, 98]               0\n",
      "        Dropout2d-64           [-1, 32, 98, 98]               0\n",
      "           Conv2d-65         [-1, 32, 100, 100]           9,248\n",
      "      BatchNorm2d-66         [-1, 32, 100, 100]              64\n",
      "             ReLU-67         [-1, 32, 100, 100]               0\n",
      "        Dropout2d-68         [-1, 32, 100, 100]               0\n",
      "      double_conv-69         [-1, 32, 100, 100]               0\n",
      "           Conv2d-70          [-1, 1, 100, 100]              33\n",
      "================================================================\n",
      "Total params: 1,927,841\n",
      "Trainable params: 1,927,841\n",
      "Non-trainable params: 0\n",
      "----------------------------------------------------------------\n",
      "Input size (MB): 0.04\n",
      "Forward/backward pass size (MB): 85.24\n",
      "Params size (MB): 7.35\n",
      "Estimated Total Size (MB): 92.63\n",
      "----------------------------------------------------------------\n"
     ]
    }
   ],
   "source": [
    "alg = \"unet\"\n",
    "merge_method = \"smooth\"  # smooth average crop\n",
    "if alg == \"unet\":\n",
    "    from model_zoo.UNET import Unet\n",
    "    model = Unet()\n",
    "    print(\"use model Unet\")\n",
    "    filename = \"unet_96_48_900200_seed\"\n",
    "    model_path = './checkpoints/noaugmodelsseed/{}.model'.format(\n",
    "        filename)\n",
    "    save_path = './overlap_clean_predictions/{}_{}'.format(\n",
    "        filename, merge_method)\n",
    "elif alg == \"deeplab\":\n",
    "    from model_zoo.DEEPLAB.deeplab import DeepLab\n",
    "    model = DeepLab(backbone='mobilenet', num_classes=1, output_stride=16)\n",
    "    print(\"use model DeepLab\")\n",
    "    filename = \"mobilenet_96_48_900200_seed\"\n",
    "    model_path = './checkpoints/noaugmodelsseed/{}.model'.format(\n",
    "        filename)\n",
    "    save_path = './overlap_clean_predictions/{}_{}'.format(\n",
    "        filename, merge_method)\n",
    "elif alg == \"hed\":\n",
    "    from model_zoo.HED import HED\n",
    "    model = HED()\n",
    "    print(\"use model HED\")\n",
    "    filename = \"hed_96_48_900200_seed3\"\n",
    "    model_path = './checkpoints/noaugmodelsseed/{}.model'.format(\n",
    "        filename)\n",
    "    save_path = './overlap_clean_predictions/{}_{}'.format(\n",
    "        filename, merge_method)\n",
    "elif alg == \"rcf\":\n",
    "    from model_zoo.RCF import RCF\n",
    "    model = RCF()\n",
    "    print(\"use model RCF\")\n",
    "    filename = \"rcf_96_48_900200_seed\"\n",
    "    model_path = './checkpoints/noaugmodelsseed/{}.model'.format(\n",
    "        filename)\n",
    "    save_path = './overlap_clean_predictions/{}_{}'.format(\n",
    "        filename, merge_method)\n",
    "else:\n",
    "    print(\"please enter a valid model\")\n",
    "\n",
    "print(model_path)\n",
    "print(save_path)\n",
    "\n",
    "if torch.cuda.is_available():\n",
    "    device = torch.device('cuda')\n",
    "else:\n",
    "    devcie = torch.device('cpu')\n",
    "\n",
    "model.load_state_dict(torch.load(model_path))\n",
    "model.to(device)\n",
    "\n",
    "summary(model, (1, patch_sz, patch_sz))"
   ]
  },
  {
   "cell_type": "markdown",
   "metadata": {},
   "source": [
    "### Processing test dataset"
   ]
  },
  {
   "cell_type": "code",
   "execution_count": 22,
   "metadata": {},
   "outputs": [
    {
     "name": "stdout",
     "output_type": "stream",
     "text": [
      "Testing for 100 samples\n"
     ]
    },
    {
     "ename": "OutOfMemoryError",
     "evalue": "CUDA out of memory. Tried to allocate 50.00 MiB (GPU 0; 8.00 GiB total capacity; 7.09 GiB already allocated; 0 bytes free; 7.35 GiB reserved in total by PyTorch) If reserved memory is >> allocated memory try setting max_split_size_mb to avoid fragmentation.  See documentation for Memory Management and PYTORCH_CUDA_ALLOC_CONF",
     "output_type": "error",
     "traceback": [
      "\u001b[1;31m---------------------------------------------------------------------------\u001b[0m",
      "\u001b[1;31mOutOfMemoryError\u001b[0m                          Traceback (most recent call last)",
      "Cell \u001b[1;32mIn [22], line 29\u001b[0m\n\u001b[0;32m     27\u001b[0m recovered_imgs \u001b[39m=\u001b[39m []\n\u001b[0;32m     28\u001b[0m \u001b[39mfor\u001b[39;00m imgs \u001b[39min\u001b[39;00m data_loader:\n\u001b[1;32m---> 29\u001b[0m     outputs \u001b[39m=\u001b[39m model(imgs\u001b[39m.\u001b[39;49mcuda())\n\u001b[0;32m     30\u001b[0m     preds\u001b[39m.\u001b[39mextend(outputs)\n\u001b[0;32m     31\u001b[0m     \u001b[39mif\u001b[39;00m \u001b[39mlen\u001b[39m(preds) \u001b[39m>\u001b[39m\u001b[39m=\u001b[39m num_patches:\n",
      "File \u001b[1;32md:\\GitHub\\seismic_An\\venv\\lib\\site-packages\\torch\\nn\\modules\\module.py:1190\u001b[0m, in \u001b[0;36mModule._call_impl\u001b[1;34m(self, *input, **kwargs)\u001b[0m\n\u001b[0;32m   1186\u001b[0m \u001b[39m# If we don't have any hooks, we want to skip the rest of the logic in\u001b[39;00m\n\u001b[0;32m   1187\u001b[0m \u001b[39m# this function, and just call forward.\u001b[39;00m\n\u001b[0;32m   1188\u001b[0m \u001b[39mif\u001b[39;00m \u001b[39mnot\u001b[39;00m (\u001b[39mself\u001b[39m\u001b[39m.\u001b[39m_backward_hooks \u001b[39mor\u001b[39;00m \u001b[39mself\u001b[39m\u001b[39m.\u001b[39m_forward_hooks \u001b[39mor\u001b[39;00m \u001b[39mself\u001b[39m\u001b[39m.\u001b[39m_forward_pre_hooks \u001b[39mor\u001b[39;00m _global_backward_hooks\n\u001b[0;32m   1189\u001b[0m         \u001b[39mor\u001b[39;00m _global_forward_hooks \u001b[39mor\u001b[39;00m _global_forward_pre_hooks):\n\u001b[1;32m-> 1190\u001b[0m     \u001b[39mreturn\u001b[39;00m forward_call(\u001b[39m*\u001b[39m\u001b[39minput\u001b[39m, \u001b[39m*\u001b[39m\u001b[39m*\u001b[39mkwargs)\n\u001b[0;32m   1191\u001b[0m \u001b[39m# Do not call functions when jit is used\u001b[39;00m\n\u001b[0;32m   1192\u001b[0m full_backward_hooks, non_full_backward_hooks \u001b[39m=\u001b[39m [], []\n",
      "File \u001b[1;32md:\\GitHub\\seismic_An\\model_zoo\\UNET.py:113\u001b[0m, in \u001b[0;36mUnet.forward\u001b[1;34m(self, inputs)\u001b[0m\n\u001b[0;32m    110\u001b[0m         cat3 \u001b[39m=\u001b[39m torch\u001b[39m.\u001b[39mcat([conv3 ,t_conv3], \u001b[39m1\u001b[39m)\n\u001b[0;32m    111\u001b[0m         ex_conv3 \u001b[39m=\u001b[39m \u001b[39mself\u001b[39m\u001b[39m.\u001b[39mex_double_conv3(cat3)\n\u001b[1;32m--> 113\u001b[0m         t_conv2 \u001b[39m=\u001b[39m \u001b[39mself\u001b[39;49m\u001b[39m.\u001b[39;49mt_conv2(ex_conv3)\n\u001b[0;32m    114\u001b[0m \u001b[39m#         print(t_conv2.shape)\u001b[39;00m\n\u001b[0;32m    115\u001b[0m         h, w \u001b[39m=\u001b[39m conv2\u001b[39m.\u001b[39mshape[\u001b[39m2\u001b[39m], conv2\u001b[39m.\u001b[39mshape[\u001b[39m3\u001b[39m]\n",
      "File \u001b[1;32md:\\GitHub\\seismic_An\\venv\\lib\\site-packages\\torch\\nn\\modules\\module.py:1190\u001b[0m, in \u001b[0;36mModule._call_impl\u001b[1;34m(self, *input, **kwargs)\u001b[0m\n\u001b[0;32m   1186\u001b[0m \u001b[39m# If we don't have any hooks, we want to skip the rest of the logic in\u001b[39;00m\n\u001b[0;32m   1187\u001b[0m \u001b[39m# this function, and just call forward.\u001b[39;00m\n\u001b[0;32m   1188\u001b[0m \u001b[39mif\u001b[39;00m \u001b[39mnot\u001b[39;00m (\u001b[39mself\u001b[39m\u001b[39m.\u001b[39m_backward_hooks \u001b[39mor\u001b[39;00m \u001b[39mself\u001b[39m\u001b[39m.\u001b[39m_forward_hooks \u001b[39mor\u001b[39;00m \u001b[39mself\u001b[39m\u001b[39m.\u001b[39m_forward_pre_hooks \u001b[39mor\u001b[39;00m _global_backward_hooks\n\u001b[0;32m   1189\u001b[0m         \u001b[39mor\u001b[39;00m _global_forward_hooks \u001b[39mor\u001b[39;00m _global_forward_pre_hooks):\n\u001b[1;32m-> 1190\u001b[0m     \u001b[39mreturn\u001b[39;00m forward_call(\u001b[39m*\u001b[39m\u001b[39minput\u001b[39m, \u001b[39m*\u001b[39m\u001b[39m*\u001b[39mkwargs)\n\u001b[0;32m   1191\u001b[0m \u001b[39m# Do not call functions when jit is used\u001b[39;00m\n\u001b[0;32m   1192\u001b[0m full_backward_hooks, non_full_backward_hooks \u001b[39m=\u001b[39m [], []\n",
      "File \u001b[1;32md:\\GitHub\\seismic_An\\venv\\lib\\site-packages\\torch\\nn\\modules\\conv.py:956\u001b[0m, in \u001b[0;36mConvTranspose2d.forward\u001b[1;34m(self, input, output_size)\u001b[0m\n\u001b[0;32m    951\u001b[0m num_spatial_dims \u001b[39m=\u001b[39m \u001b[39m2\u001b[39m\n\u001b[0;32m    952\u001b[0m output_padding \u001b[39m=\u001b[39m \u001b[39mself\u001b[39m\u001b[39m.\u001b[39m_output_padding(\n\u001b[0;32m    953\u001b[0m     \u001b[39minput\u001b[39m, output_size, \u001b[39mself\u001b[39m\u001b[39m.\u001b[39mstride, \u001b[39mself\u001b[39m\u001b[39m.\u001b[39mpadding, \u001b[39mself\u001b[39m\u001b[39m.\u001b[39mkernel_size,  \u001b[39m# type: ignore[arg-type]\u001b[39;00m\n\u001b[0;32m    954\u001b[0m     num_spatial_dims, \u001b[39mself\u001b[39m\u001b[39m.\u001b[39mdilation)  \u001b[39m# type: ignore[arg-type]\u001b[39;00m\n\u001b[1;32m--> 956\u001b[0m \u001b[39mreturn\u001b[39;00m F\u001b[39m.\u001b[39;49mconv_transpose2d(\n\u001b[0;32m    957\u001b[0m     \u001b[39minput\u001b[39;49m, \u001b[39mself\u001b[39;49m\u001b[39m.\u001b[39;49mweight, \u001b[39mself\u001b[39;49m\u001b[39m.\u001b[39;49mbias, \u001b[39mself\u001b[39;49m\u001b[39m.\u001b[39;49mstride, \u001b[39mself\u001b[39;49m\u001b[39m.\u001b[39;49mpadding,\n\u001b[0;32m    958\u001b[0m     output_padding, \u001b[39mself\u001b[39;49m\u001b[39m.\u001b[39;49mgroups, \u001b[39mself\u001b[39;49m\u001b[39m.\u001b[39;49mdilation)\n",
      "\u001b[1;31mOutOfMemoryError\u001b[0m: CUDA out of memory. Tried to allocate 50.00 MiB (GPU 0; 8.00 GiB total capacity; 7.09 GiB already allocated; 0 bytes free; 7.35 GiB reserved in total by PyTorch) If reserved memory is >> allocated memory try setting max_split_size_mb to avoid fragmentation.  See documentation for Memory Management and PYTORCH_CUDA_ALLOC_CONF"
     ]
    }
   ],
   "source": [
    "seismic_list = glob.glob(f'{dataset_proc}/{stage}/seismic/*.npy')\n",
    "fault_list = glob.glob(f'{dataset_proc}/{stage}/annotation/*.npy')\n",
    "\n",
    "print(f'Testing for {len(fault_list)} samples')\n",
    "\n",
    "for seismic_path, fault_path in zip(seismic_list, fault_list):\n",
    "    seismic = np.load(seismic_path)\n",
    "    fault = np.load(fault_path)\n",
    "\n",
    "    Z, XL = fault.shape\n",
    "    padding, cnt = get_sliding_wnd_params((XL, Z), patch_sz, step)\n",
    "    num_patches = cnt[0] * cnt[1]\n",
    "\n",
    "    patches = get_sliding_wnd_patches(seismic, padding, patch_sz, step)\n",
    "    patches = patches.astype(np.float32)\n",
    "    patches = np.expand_dims(patches, 1)\n",
    "    \n",
    "    batch_size = 64\n",
    "    dataset = SeismicDataset(patches)\n",
    "    data_loader = DataLoader(\n",
    "        dataset=dataset,\n",
    "        batch_size=batch_size,\n",
    "        shuffle=False\n",
    "    )\n",
    "\n",
    "    preds = []\n",
    "    recovered_imgs = []\n",
    "    for imgs in data_loader:\n",
    "        outputs = model(imgs.cuda())\n",
    "        preds.extend(outputs)\n",
    "        if len(preds) >= num_patches:\n",
    "            stacked = torch.stack(preds).numpy()[:num_patches]\n",
    "            preds = preds[num_patches:]\n",
    "\n",
    "            if merge_method == \"smooth\":\n",
    "                weights = window_2d(wnd_sz=patch_sz, power=2)\n",
    "                stacked = np.moveaxis(stacked, -3, -1)\n",
    "                stacked = np.array([patch * weights for patch in stacked])\n",
    "                stacked = stacked.reshape((cnt[1], cnt[0], patch_sz, patch_sz, 1))\n",
    "                recovered = recover_img_from_patches(stacked, (XL, Z, 1), padding, overlap_sz)\n",
    "                recovered_imgs.extend(recovered)\n",
    "            else:\n",
    "                print('invalid merge method')"
   ]
  }
 ],
 "metadata": {
  "kernelspec": {
   "display_name": "Python 3.10.5 ('venv': venv)",
   "language": "python",
   "name": "python3"
  },
  "language_info": {
   "codemirror_mode": {
    "name": "ipython",
    "version": 3
   },
   "file_extension": ".py",
   "mimetype": "text/x-python",
   "name": "python",
   "nbconvert_exporter": "python",
   "pygments_lexer": "ipython3",
   "version": "3.10.5"
  },
  "orig_nbformat": 4,
  "vscode": {
   "interpreter": {
    "hash": "81394f6230ad0682d93a08edc4df2d89c2c4413e0976c2f6dbe1fce73881693e"
   }
  }
 },
 "nbformat": 4,
 "nbformat_minor": 2
}
